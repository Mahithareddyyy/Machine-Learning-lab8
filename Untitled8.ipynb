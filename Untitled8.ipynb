{
 "cells": [
  {
   "cell_type": "code",
   "execution_count": 1,
   "id": "13d14a03",
   "metadata": {},
   "outputs": [
    {
     "data": {
      "text/html": [
       "<div>\n",
       "<style scoped>\n",
       "    .dataframe tbody tr th:only-of-type {\n",
       "        vertical-align: middle;\n",
       "    }\n",
       "\n",
       "    .dataframe tbody tr th {\n",
       "        vertical-align: top;\n",
       "    }\n",
       "\n",
       "    .dataframe thead th {\n",
       "        text-align: right;\n",
       "    }\n",
       "</style>\n",
       "<table border=\"1\" class=\"dataframe\">\n",
       "  <thead>\n",
       "    <tr style=\"text-align: right;\">\n",
       "      <th></th>\n",
       "      <th>age</th>\n",
       "      <th>income</th>\n",
       "      <th>student</th>\n",
       "      <th>credit_rating</th>\n",
       "      <th>buys_computer</th>\n",
       "    </tr>\n",
       "  </thead>\n",
       "  <tbody>\n",
       "    <tr>\n",
       "      <th>0</th>\n",
       "      <td>&lt;=30</td>\n",
       "      <td>high</td>\n",
       "      <td>no</td>\n",
       "      <td>fair</td>\n",
       "      <td>no</td>\n",
       "    </tr>\n",
       "    <tr>\n",
       "      <th>1</th>\n",
       "      <td>&lt;=30</td>\n",
       "      <td>high</td>\n",
       "      <td>no</td>\n",
       "      <td>excellent</td>\n",
       "      <td>no</td>\n",
       "    </tr>\n",
       "    <tr>\n",
       "      <th>2</th>\n",
       "      <td>31…40</td>\n",
       "      <td>high</td>\n",
       "      <td>no</td>\n",
       "      <td>fair</td>\n",
       "      <td>yes</td>\n",
       "    </tr>\n",
       "    <tr>\n",
       "      <th>3</th>\n",
       "      <td>&gt;40</td>\n",
       "      <td>medium</td>\n",
       "      <td>no</td>\n",
       "      <td>fair</td>\n",
       "      <td>yes</td>\n",
       "    </tr>\n",
       "    <tr>\n",
       "      <th>4</th>\n",
       "      <td>&gt;40</td>\n",
       "      <td>low</td>\n",
       "      <td>yes</td>\n",
       "      <td>fair</td>\n",
       "      <td>yes</td>\n",
       "    </tr>\n",
       "    <tr>\n",
       "      <th>5</th>\n",
       "      <td>&gt;40</td>\n",
       "      <td>low</td>\n",
       "      <td>yes</td>\n",
       "      <td>excellent</td>\n",
       "      <td>no</td>\n",
       "    </tr>\n",
       "    <tr>\n",
       "      <th>6</th>\n",
       "      <td>31…40</td>\n",
       "      <td>low</td>\n",
       "      <td>yes</td>\n",
       "      <td>excellent</td>\n",
       "      <td>yes</td>\n",
       "    </tr>\n",
       "    <tr>\n",
       "      <th>7</th>\n",
       "      <td>&lt;=30</td>\n",
       "      <td>medium</td>\n",
       "      <td>no</td>\n",
       "      <td>fair</td>\n",
       "      <td>no</td>\n",
       "    </tr>\n",
       "    <tr>\n",
       "      <th>8</th>\n",
       "      <td>&lt;=30</td>\n",
       "      <td>low</td>\n",
       "      <td>yes</td>\n",
       "      <td>fair</td>\n",
       "      <td>yes</td>\n",
       "    </tr>\n",
       "    <tr>\n",
       "      <th>9</th>\n",
       "      <td>&gt;40</td>\n",
       "      <td>medium</td>\n",
       "      <td>yes</td>\n",
       "      <td>fair</td>\n",
       "      <td>yes</td>\n",
       "    </tr>\n",
       "    <tr>\n",
       "      <th>10</th>\n",
       "      <td>&lt;=30</td>\n",
       "      <td>medium</td>\n",
       "      <td>yes</td>\n",
       "      <td>excellent</td>\n",
       "      <td>yes</td>\n",
       "    </tr>\n",
       "    <tr>\n",
       "      <th>11</th>\n",
       "      <td>31…40</td>\n",
       "      <td>medium</td>\n",
       "      <td>no</td>\n",
       "      <td>excellent</td>\n",
       "      <td>yes</td>\n",
       "    </tr>\n",
       "    <tr>\n",
       "      <th>12</th>\n",
       "      <td>31…40</td>\n",
       "      <td>high</td>\n",
       "      <td>yes</td>\n",
       "      <td>fair</td>\n",
       "      <td>yes</td>\n",
       "    </tr>\n",
       "    <tr>\n",
       "      <th>13</th>\n",
       "      <td>&gt;40</td>\n",
       "      <td>medium</td>\n",
       "      <td>no</td>\n",
       "      <td>excellent</td>\n",
       "      <td>no</td>\n",
       "    </tr>\n",
       "  </tbody>\n",
       "</table>\n",
       "</div>"
      ],
      "text/plain": [
       "      age  income student credit_rating buys_computer\n",
       "0    <=30    high      no          fair            no\n",
       "1    <=30    high      no     excellent            no\n",
       "2   31…40    high      no          fair           yes\n",
       "3     >40  medium      no          fair           yes\n",
       "4     >40     low     yes          fair           yes\n",
       "5     >40     low     yes     excellent            no\n",
       "6   31…40     low     yes     excellent           yes\n",
       "7    <=30  medium      no          fair            no\n",
       "8    <=30     low     yes          fair           yes\n",
       "9     >40  medium     yes          fair           yes\n",
       "10   <=30  medium     yes     excellent           yes\n",
       "11  31…40  medium      no     excellent           yes\n",
       "12  31…40    high     yes          fair           yes\n",
       "13    >40  medium      no     excellent            no"
      ]
     },
     "execution_count": 1,
     "metadata": {},
     "output_type": "execute_result"
    }
   ],
   "source": [
    "#A1\n",
    "import numpy as np\n",
    "import pandas as pd\n",
    "#input the dataset for interpretation\n",
    "df = pd.read_excel(\"mldata.xlsx\")\n",
    "df"
   ]
  },
  {
   "cell_type": "code",
   "execution_count": 2,
   "id": "5cf2a638",
   "metadata": {},
   "outputs": [
    {
     "name": "stdout",
     "output_type": "stream",
     "text": [
      "buys_computer\n",
      "yes    0.642857\n",
      "no     0.357143\n",
      "Name: count, dtype: float64\n"
     ]
    }
   ],
   "source": [
    "#A2\n",
    "total_instances = df.shape[0]\n",
    "# Calculating the prior probability for each class of the target column\n",
    "#Calculating number of 'yes' or 'no' values in each class\n",
    "class_counts = df['buys_computer'].value_counts()\n",
    "#calculating the prior probability for each class i.e yes and no\n",
    "class_priors = class_counts / total_instances\n",
    "print(class_priors)"
   ]
  },
  {
   "cell_type": "code",
   "execution_count": 3,
   "id": "35ece05d",
   "metadata": {},
   "outputs": [
    {
     "name": "stdout",
     "output_type": "stream",
     "text": [
      "{('age', 'no'): age\n",
      "<=30    0.6\n",
      ">40     0.4\n",
      "Name: proportion, dtype: float64, ('age', 'yes'): age\n",
      "31…40    0.444444\n",
      ">40      0.333333\n",
      "<=30     0.222222\n",
      "Name: proportion, dtype: float64, ('income', 'no'): income\n",
      "high      0.4\n",
      "medium    0.4\n",
      "low       0.2\n",
      "Name: proportion, dtype: float64, ('income', 'yes'): income\n",
      "medium    0.444444\n",
      "low       0.333333\n",
      "high      0.222222\n",
      "Name: proportion, dtype: float64, ('student', 'no'): student\n",
      "no     0.8\n",
      "yes    0.2\n",
      "Name: proportion, dtype: float64, ('student', 'yes'): student\n",
      "yes    0.666667\n",
      "no     0.333333\n",
      "Name: proportion, dtype: float64, ('credit_rating', 'no'): credit_rating\n",
      "excellent    0.6\n",
      "fair         0.4\n",
      "Name: proportion, dtype: float64, ('credit_rating', 'yes'): credit_rating\n",
      "fair         0.666667\n",
      "excellent    0.333333\n",
      "Name: proportion, dtype: float64}\n",
      "Class conditional densities do not contain zero values.\n"
     ]
    }
   ],
   "source": [
    "#A2\n",
    "#Initiliasing a dictionary for class conditional density\n",
    "class_conditional_densities = {}\n",
    "#Calculating class conditional density\n",
    "for feature in df.columns[:-1]:\n",
    "    for class_value in df['buys_computer'].unique():\n",
    "        class_conditional_densities[(feature, class_value)] = df[df['buys_computer'] == class_value][feature].value_counts(normalize=True)\n",
    "#Printing class conditional density for all the attributes\n",
    "print(class_conditional_densities)\n",
    "# Observe if any class conditional density has zero values\n",
    "zero_values_found = False\n",
    "for feature, class_value in class_conditional_densities:\n",
    "    if 0 in class_conditional_densities[(feature, class_value)]:\n",
    "        zero_values_found = True\n",
    "        break\n",
    "#If class conditional densities have zero values print it\n",
    "if zero_values_found:\n",
    "    print(\"Class conditional densities contain zero values.\")\n",
    "#If class conditional densities do not have zero values print it\n",
    "else:\n",
    "    print(\"Class conditional densities do not contain zero values.\")"
   ]
  },
  {
   "cell_type": "code",
   "execution_count": 9,
   "id": "15d0183c",
   "metadata": {},
   "outputs": [
    {
     "name": "stdout",
     "output_type": "stream",
     "text": [
      "credit_rating         excellent  fair\n",
      "age   income student                 \n",
      "31…40 high   no               0     1\n",
      "             yes              0     1\n",
      "      low    yes              1     0\n",
      "      medium no               1     0\n",
      "<=30  high   no               1     1\n",
      "      low    yes              0     1\n",
      "      medium no               0     1\n",
      "             yes              1     0\n",
      ">40   low    yes              1     1\n",
      "      medium no               1     1\n",
      "             yes              0     1\n"
     ]
    }
   ],
   "source": [
    "#A3\n",
    "contingency_table = pd.crosstab(index=[df['age'], df['income'], df['student']], columns=df['credit_rating'])\n",
    "print(contingency_table)"
   ]
  },
  {
   "cell_type": "code",
   "execution_count": 10,
   "id": "37ec1b77",
   "metadata": {},
   "outputs": [
    {
     "name": "stdout",
     "output_type": "stream",
     "text": [
      "Chi-square statistic: 7.875000000000001\n",
      "P-value: 0.6410453583544452\n"
     ]
    }
   ],
   "source": [
    "from scipy.stats import chi2_contingency\n",
    "\n",
    "# Performing chi-square test\n",
    "chi2, p, dof, expected = chi2_contingency(contingency_table)\n",
    "print(f\"Chi-square statistic: {chi2}\")\n",
    "print(f\"P-value: {p}\")\n"
   ]
  },
  {
   "cell_type": "code",
   "execution_count": 11,
   "id": "0ff3c86a",
   "metadata": {},
   "outputs": [
    {
     "name": "stdout",
     "output_type": "stream",
     "text": [
      "Accuracy of the Naïve-Bayes classifier: 0.6666666666666666\n"
     ]
    }
   ],
   "source": [
    "#A4\n",
    "import pandas as pd\n",
    "from sklearn.naive_bayes import GaussianNB\n",
    "from sklearn.model_selection import train_test_split\n",
    "from sklearn.preprocessing import LabelEncoder\n",
    "# Convert categorical variables to numerical labels\n",
    "label_encoder = LabelEncoder()\n",
    "for column in df.columns:\n",
    "    df[column] = label_encoder.fit_transform(df[column])\n",
    "# Separating features (X) and target variable (y)\n",
    "X = df.drop('buys_computer', axis=1)\n",
    "y = df['buys_computer']\n",
    "# Splitting the data into training and testing sets\n",
    "Tr_X, Te_X, Tr_y, Te_y = train_test_split(X, y, test_size=0.2, random_state=42)\n",
    "# Building the Naïve-Bayes classifier\n",
    "model = GaussianNB()\n",
    "# Training the model\n",
    "model.fit(Tr_X, Tr_y)\n",
    "# Predicting on the test set\n",
    "predictions = model.predict(Te_X)\n",
    "# Evaluating the model (if needed)\n",
    "accuracy = model.score(Te_X, Te_y)\n",
    "print(f\"Accuracy of the Naïve-Bayes classifier: {accuracy}\")"
   ]
  },
  {
   "cell_type": "code",
   "execution_count": 14,
   "id": "a8f6eb62",
   "metadata": {},
   "outputs": [],
   "source": [
    "#A5\n",
    "from sklearn.metrics import accuracy_score\n",
    "dff = pd.read_excel('embeddingsdata.xlsx')\n"
   ]
  },
  {
   "cell_type": "code",
   "execution_count": 15,
   "id": "81c90e0e",
   "metadata": {},
   "outputs": [
    {
     "name": "stdout",
     "output_type": "stream",
     "text": [
      "Accuracy: 0.5611111111111111\n"
     ]
    }
   ],
   "source": [
    "#A5\n",
    "X = dff.drop(\"Label\", axis=1)\n",
    "y = dff[\"Label\"]\n",
    "Tr_X, Te_X, Tr_y, Te_y = train_test_split(X, y, test_size=0.2, random_state=42)\n",
    "#building model\n",
    "nb_model = GaussianNB()\n",
    "nb_model.fit(Tr_X, Tr_y)\n",
    "predictions = nb_model.predict(Te_X)\n",
    "accuracy = accuracy_score(Te_y, predictions)\n",
    "#printing the accuracy\n",
    "print(f\"Accuracy: {accuracy}\")"
   ]
  },
  {
   "cell_type": "code",
   "execution_count": null,
   "id": "b71b6305",
   "metadata": {},
   "outputs": [],
   "source": []
  }
 ],
 "metadata": {
  "kernelspec": {
   "display_name": "Python 3 (ipykernel)",
   "language": "python",
   "name": "python3"
  },
  "language_info": {
   "codemirror_mode": {
    "name": "ipython",
    "version": 3
   },
   "file_extension": ".py",
   "mimetype": "text/x-python",
   "name": "python",
   "nbconvert_exporter": "python",
   "pygments_lexer": "ipython3",
   "version": "3.11.5"
  }
 },
 "nbformat": 4,
 "nbformat_minor": 5
}
